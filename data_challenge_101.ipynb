{
  "nbformat": 4,
  "nbformat_minor": 0,
  "metadata": {
    "colab": {
      "provenance": []
    },
    "kernelspec": {
      "name": "python3",
      "display_name": "Python 3"
    },
    "language_info": {
      "name": "python"
    }
  },
  "cells": [
    {
      "cell_type": "markdown",
      "source": [
        "# NTX_data_challenge_2023"
      ],
      "metadata": {
        "id": "lo_hKOljzQtG"
      }
    },
    {
      "cell_type": "markdown",
      "source": [
        "This notebook contains following information:\n",
        "\n",
        "- [Competition_Overview](#overview)\n",
        "- [Protocol](#protocol)\n",
        "- [Who can take part](#who_participate)\n",
        "- [Prizes](#prizes)\n",
        "- [Competition Phases](#phases)\n",
        "- [Timeline](#timeline)"
      ],
      "metadata": {
        "id": "-x0kPut3zrjJ"
      }
    },
    {
      "cell_type": "markdown",
      "source": [
        "# Competion_Overview\n",
        "\n",
        "This competition aims in promoting use of machine learning and deep learning based techniques in the feild of Brain Computer Interface.\n",
        "\n",
        "The data challenge aims in analysis of [EEG](https://en.wikipedia.org/wiki/Electroencephalography) data collected by IDUN Guardian Earbuds.\n",
        "Electroencephalography (EEG) is a non-invasive technique that measures brain activity by\n",
        "detecting the electrical signals produced by the\n",
        "brain. This technology is beneficial for both\n",
        "clinical and consumer applications because it\n",
        "provides a high-resolution, real-time measure\n",
        "of brain activity.\n",
        "In clinical settings, EEG is commonly used to diagnose and monitor a wide range of neurological conditions, such as epilepsy, sleep disorders, and brain injuries. It is also used to assess\n",
        "brain function in patients in comas or under anesthesia. Measuring brain activity in real time\n",
        "allows clinicians to make better-informed decisions about diagnosis and treatment. For example, an EEG can be used to monitor the brain\n",
        "activity of a patient undergoing a seizure, allowing the clinician to see the exact moment when\n",
        "the seizure begins and where it originates. Another benefit of EEG is its non-invasive nature.\n",
        "Unlike other brain imaging techniques, EEG\n",
        "does not require surgical procedures, ionizing\n",
        "radiation, or the injection of contrast agents.\n",
        "This makes it simple and safe to use in a wide\n",
        "range of populations.\n",
        "Applications of EEG are wide-ranging, even beyond clinical settings. One area where EEG has\n",
        "shown promise is in tracking human cognition.\n",
        "Researchers have used EEG to study cognitive\n",
        "processes, such as attention, perception, and\n",
        "memory. EEG has also been used to study emotional responses, such as fear and happiness.\n",
        "Researchers can gain insight into the neural\n",
        "mechanisms underlying emotional processing\n",
        "by measuring brain activity in response to emotional stimuli.\n",
        "\n",
        "The IDUN Guardian Earbuds collect in-ear EEG data. To do that, it contains\n",
        "two tip shaped dry electrodes, one that goes into each ear. The reference electrode is located in the left ear canal, the measuring electrode in the right ear canal. The ground electrode is integrated into the hook that goes over the left ear (check out [IDUN’s website](https://iduntechnologies.com/idun-guardian-in-ear-eeg-platform/) for more information). The EEG data sampling rate is 250Hz.\n",
        "\n",
        "The data labelling was done on data from both devices simultaneously. All data was filtered between 0.75 and 35Hz. we further created a second Guardian channel that was filtered between 4 and 18Hz to facilitate identifying markers in that range (called ‘Guardian_4_18Hz’).\n",
        "\n",
        " The that will be recieved by the participant is the resulting labels and their timestamps and the raw and filtered Guardian Earbuds data. dataset fi file has 3 variables: Marker, Timestamp_samples and Epoch. Marker refers to the label name, Timestamp_samples refers to timepoint of occurrence of the respective marker in samples, and Epoch refers to the epoch in which the marker occurred (data was displayed in 30s windows, so if epoch is 1 that means that the marker occurred within the first 30 seconds of the recording).\n",
        "\n",
        "For each biomarker, I used the following label structure (sleep spindle as example):\n",
        "\n",
        "\n",
        "*   S0: Means we were able to see a sleep spindle in the reference system, but not in the Guardian signal.\n",
        "*   S1: we were able to see a sleep spindle in both the reference system and the Guardian signal.\n",
        "*   GS1: we were able to see a sleep spindle in the Guardian signal but not in the reference signal.\n",
        "\n",
        "The same code has been used for other markers:\n",
        "\n",
        "* S: Sleep spindles (either 0, 1, or GS1)\n",
        "\n",
        "* K: K-complexes (either 0 or 1)\n",
        "\n",
        "* REM: Rapid eye movements (either 0 or 1)\n",
        "\n",
        "* Son: Sleep onset (either 0 or 1)\n",
        "\n",
        "* Soff: Sleep offset (either 0 or 1)\n",
        "\n",
        "* A: Arousals (either 0 or 1)\n",
        "\n",
        "* MS: Microsleep (either 0 or 1)\n",
        "\n",
        "we further added in at least one dataset specific marker to flag when Guardian signal quality became very bad temporarily, labelling the onset of these periods BAD_QUALITY_GUARDIAN_START and the offset of these periods BAD_QUALITY_GUARDIAN_END.\n",
        "\n",
        "\n"
      ],
      "metadata": {
        "id": "g3VjYNaH0nzw"
      }
    },
    {
      "cell_type": "markdown",
      "source": [
        "# Protocol\n",
        "## Protocol <a id='protocol'></a>\n",
        "\n",
        "The competition will be hosted by the [Codabench platform](https://www.codabench.org/competitions/1534/). Participants will have to:\n",
        "\n",
        "1. create an account;\n",
        "1. download a starting kit to prepare their submission;\n",
        "1. upload on the Codabench platform their trained ML models. Then, the platform will use the LIPS framework to compute scores for the submission. The score will be published on the Codabench competition page and the participant will also have access to an additional page with the detailed metrics.\n",
        "\n",
        "\n",
        "\n",
        "## Who can take part <a id='who_participate'></a>\n",
        "\n",
        "Anyone interested in solving physical problems using ML technics is encouraged to participate in this competition. It could be a great opportunity to gather people from ML and the Scientific computing communities to leverage the synergies between these two domains.\n",
        "\n",
        "\n",
        "## Prizes <a id='prizes'></a>\n",
        "\n",
        "## Competition phases <a id='phases'></a>\n",
        "\n",
        "## Timeline <a id='timeline'></a>\n",
        "\n"
      ],
      "metadata": {
        "id": "ulWQ5ur6CWe0"
      }
    },
    {
      "cell_type": "code",
      "source": [],
      "metadata": {
        "id": "sEQ-KNBr0mOT"
      },
      "execution_count": null,
      "outputs": []
    }
  ]
}